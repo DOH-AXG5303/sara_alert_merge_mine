{
 "cells": [
  {
   "cell_type": "code",
   "execution_count": 1,
   "id": "084100a2-abf3-40e5-bb51-44583981a1bd",
   "metadata": {},
   "outputs": [],
   "source": [
    "import pandas as pd\n",
    "import os, re\n",
    "from time import sleep"
   ]
  },
  {
   "cell_type": "code",
   "execution_count": 25,
   "id": "08e6f849-0b7c-47a4-bbff-ae9e5f4ba398",
   "metadata": {},
   "outputs": [],
   "source": [
    "general_path = \"C:/SARA_Copy/2022_02_24_recent_files/\"\n",
    "\n",
    "def scan_subdirectories(path):\n",
    "    \"\"\"\n",
    "    scan subdirectories of the following format:\n",
    "    \n",
    "    path -> folders -> subdirs -> files\n",
    "    \n",
    "    args:\n",
    "        path: path argument string\n",
    "    return:\n",
    "        dictionary: keys = path to subdirs \n",
    "                    values = list of file names in subdirs\n",
    "    \n",
    "    \"\"\"\n",
    "    subdirs_dict = {}\n",
    "    \n",
    "    for folder in os.listdir(path): #finding path name of all folders in the argument path\n",
    "        \n",
    "        folder_path = path + folder\n",
    "        subdirs = next(os.walk(folder_path))[1]  \n",
    "        \n",
    "        for sub in subdirs:# finding path name of all the subdirs \n",
    "            subdir_path = folder_path + \"/\" + sub\n",
    "            subdirs_dict[subdir_path] = [str(file) for file in os.listdir(subdir_path)]\n",
    "            \n",
    "    return subdirs_dict\n",
    "\n",
    "\n",
    "def regex_file_match_from_dict(subdirs_dict):\n",
    "    \"\"\"\n",
    "     scan list of files in each subdirectory for matching string file name\n",
    "     file must start with: \"SARA\"\n",
    "     file must contain: \"EOD\"\n",
    "     \n",
    "     file must end with \".xlsx\". (previously, it needed 8 digits followed by .xlsx)\n",
    "    \n",
    "    \"\"\"\n",
    "    \n",
    "    match_file_dict = {}\n",
    "\n",
    "    for key, value in subdirs_dict.items(): \n",
    "\n",
    "        match_file_dict[key] = []\n",
    "\n",
    "        for file in value:\n",
    "            if re.search(r'\\A(SARA).*(EOD).*(\\.xlsx$)', file):\n",
    "\n",
    "                #print(f\" TRUE: {file}\")\n",
    "\n",
    "                match_file_dict[key].append(file)\n",
    "            else:\n",
    "                pass\n",
    "                #print(f\" FALSE: {file}\")\n",
    "                \n",
    "    return match_file_dict"
   ]
  },
  {
   "cell_type": "code",
   "execution_count": 26,
   "id": "2c2f32d8-1d35-408b-96c4-cd948422fa49",
   "metadata": {},
   "outputs": [],
   "source": [
    "subdirs_dict = scan_subdirectories(general_path)"
   ]
  },
  {
   "cell_type": "code",
   "execution_count": 27,
   "id": "2a148e30-8c38-4021-9f7a-d023a967b538",
   "metadata": {},
   "outputs": [],
   "source": [
    "match_file_dict = regex_file_match_from_dict(subdirs_dict)"
   ]
  },
  {
   "cell_type": "code",
   "execution_count": 28,
   "id": "1b893799-c743-40c6-9004-17a543b436b4",
   "metadata": {},
   "outputs": [
    {
     "data": {
      "text/plain": [
       "['2022-01-12', '2022-01-14']"
      ]
     },
     "execution_count": 28,
     "metadata": {},
     "output_type": "execute_result"
    }
   ],
   "source": [
    "# find files that did not match format: Report these back\n",
    "\n",
    "file_match_fail = []\n",
    "for key, value in match_file_dict.items():\n",
    "    #print(len(value))\n",
    "    \n",
    "    if len(value) < 1:\n",
    "        file_match_fail.append(key[-10:])\n",
    "        #print (key[-10:])\n",
    "\n",
    "[i for i in sorted(file_match_fail)]"
   ]
  },
  {
   "cell_type": "code",
   "execution_count": 29,
   "id": "9779aeab-da65-42d9-8068-51f649107ea2",
   "metadata": {},
   "outputs": [],
   "source": [
    "# dict with the path and file name of all the subdirs with succesfully matched file name\n",
    "file_match_success = {}\n",
    "\n",
    "for key, value in match_file_dict.items():\n",
    "    #print(len(value))\n",
    "    \n",
    "    if len(value) == 1:\n",
    "        file_match_success[key] = value[0]\n",
    "        \n",
    "        #print (key+\"/\" + value[0])\n"
   ]
  },
  {
   "cell_type": "code",
   "execution_count": 37,
   "id": "a3efb090-d4fc-48f2-8d1f-e9599c22ec81",
   "metadata": {},
   "outputs": [
    {
     "data": {
      "text/plain": [
       "['2021-10-04',\n",
       " '2021-10-05',\n",
       " '2021-10-06',\n",
       " '2021-10-25',\n",
       " '2021-11-01',\n",
       " '2021-11-02',\n",
       " '2021-11-07',\n",
       " '2021-11-08',\n",
       " '2021-11-09',\n",
       " '2021-11-10',\n",
       " '2021-11-15',\n",
       " '2021-11-17',\n",
       " '2021-11-18',\n",
       " '2021-11-19',\n",
       " '2021-11-20',\n",
       " '2021-12-15',\n",
       " '2021-12-16',\n",
       " '2021-12-17',\n",
       " '2021-12-18',\n",
       " '2021-12-19',\n",
       " '2021-12-20',\n",
       " '2021-12-21',\n",
       " '2021-12-22',\n",
       " '2021-12-23',\n",
       " '2021-12-24',\n",
       " '2021-12-25',\n",
       " '2021-12-26',\n",
       " '2021-12-27',\n",
       " '2021-12-28',\n",
       " '2021-12-29',\n",
       " '2021-12-30',\n",
       " '2021-12-31',\n",
       " '2022-01-01',\n",
       " '2022-01-02',\n",
       " '2022-01-10',\n",
       " '2022-01-13',\n",
       " '2022-01-15',\n",
       " '2022-01-16',\n",
       " '2022-01-17',\n",
       " '2022-01-18',\n",
       " '2022-01-19',\n",
       " '2022-01-20',\n",
       " '2022-01-21',\n",
       " '2022-01-22',\n",
       " '2022-01-23',\n",
       " '2022-01-24',\n",
       " '2022-01-25',\n",
       " '2022-01-26',\n",
       " '2022-01-27',\n",
       " '2022-01-28',\n",
       " '2022-01-29',\n",
       " '2022-01-30',\n",
       " '2022-01-31',\n",
       " '2022-02-01',\n",
       " '2022-02-02',\n",
       " '2022-02-03',\n",
       " '2022-02-04',\n",
       " '2022-02-05',\n",
       " '2022-02-06',\n",
       " '2022-02-07',\n",
       " '2022-02-08',\n",
       " '2022-02-09',\n",
       " '2022-02-10',\n",
       " '2022-02-11',\n",
       " '2022-02-12',\n",
       " '2022-02-13',\n",
       " '2022-02-14',\n",
       " '2022-02-15',\n",
       " '2022-02-16',\n",
       " '2022-02-17',\n",
       " '2022-02-18',\n",
       " '2022-02-19',\n",
       " '2022-02-20',\n",
       " '2022-02-21',\n",
       " '2022-02-22']"
      ]
     },
     "execution_count": 37,
     "metadata": {},
     "output_type": "execute_result"
    }
   ],
   "source": [
    "file_match_success\n",
    "#sorted list of matched file dir for reference\n",
    "sorted([i[-10:] for i in file_match_success.keys()])"
   ]
  },
  {
   "cell_type": "code",
   "execution_count": 35,
   "id": "9f95847b-b269-4b31-b534-e4ad0bef9343",
   "metadata": {},
   "outputs": [
    {
     "name": "stdout",
     "output_type": "stream",
     "text": [
      "SARA Alert_EOD_Masterfile_Smartsheet 2021.xlsx was succesfuly imported\n",
      "SARA Alert_EOD_Masterfile_Smartsheet 20211222.xlsx was succesfuly imported\n",
      "SARA Alert_EOD_Masterfile_Smartsheet 20211222.xlsx was succesfuly imported\n",
      "SARA Alert_EOD_Masterfile_Smartsheet 20211218.xlsx was succesfuly imported\n",
      "SARA Alert_EOD_Masterfile_Smartsheet 20211219.xlsx was succesfuly imported\n",
      "SARA Alert_EOD_Masterfile_Smartsheet 20211220.xlsx was succesfuly imported\n",
      "SARA Alert_EOD_Masterfile_Smartsheet 2021.xlsx was succesfuly imported\n",
      "SARA Alert_EOD_Masterfile_Smartsheet 2021.xlsx was succesfuly imported\n",
      "SARA Alert_EOD_Masterfile_Smartsheet 2021.xlsx was succesfuly imported\n",
      "SARA Alert_EOD_Masterfile_Smartsheet 2021.xlsx was succesfuly imported\n",
      "SARA Alert_EOD_Masterfile_Smartsheet 2021.xlsx was succesfuly imported\n",
      "SARA Alert_EOD_Masterfile_Smartsheet 20211226.xlsx was succesfuly imported\n",
      "SARA Alert_EOD_Masterfile_Smartsheet 2021.xlsx was succesfuly imported\n",
      "SARA Alert_EOD_Masterfile_Smartsheet 2021.xlsx was succesfuly imported\n",
      "SARA Alert_EOD_Masterfile_Smartsheet 20211229.xlsx was succesfuly imported\n",
      "SARA Alert_EOD_Masterfile_Smartsheet 2021.xlsx was succesfuly imported\n",
      "SARA Alert_EOD_Masterfile_Smartsheet 2021.xlsx was succesfuly imported\n",
      "SARA Alert_EOD_Masterfile_Smartsheet 2021.xlsx was succesfuly imported\n",
      "SARA Alert_EOD_Masterfile_Smartsheet 2021.xlsx was succesfuly imported\n",
      "SARA Alert_EOD_Masterfile_Smartsheet 2021.xlsx was succesfuly imported\n",
      "SARA Alert_EOD_Masterfile_Smartsheet 2021.xlsx was succesfuly imported\n",
      "SARA Alert_EOD_Masterfile_Smartsheet 2021.xlsx was succesfuly imported\n",
      "SARA Alert_EOD_Masterfile_Smartsheet 2021.xlsx was succesfuly imported\n",
      "SARA Alert_EOD_Masterfile_Smartsheet 2021.xlsx was succesfuly imported\n",
      "SARA Alert_EOD_Masterfile_Smartsheet 2021.xlsx was succesfuly imported\n",
      "SARA Alert_EOD_Masterfile_Smartsheet 2021.xlsx failed to import\n",
      "SARA Alert_EOD_Masterfile_Smartsheet 2021.xlsx was succesfuly imported\n",
      "SARA Alert_EOD_Masterfile_Smartsheet 2021.xlsx was succesfuly imported\n",
      "SARA Alert_EOD_Masterfile_Smartsheet 2021.xlsx was succesfuly imported\n",
      "SARA Alert_EOD_Masterfile_Smartsheet 2021.xlsx was succesfuly imported\n",
      "SARA Alert_EOD_Masterfile_Smartsheet 2021.xlsx was succesfuly imported\n",
      "SARA Alert_EOD_Masterfile_Smartsheet 2021.xlsx was succesfuly imported\n",
      "SARA Alert_EOD_Masterfile_Smartsheet 2021.xlsx was succesfuly imported\n",
      "SARA Alert_EOD_Masterfile_Smartsheet 2021.xlsx was succesfuly imported\n",
      "SARA Alert_EOD_Masterfile_Smartsheet 2021.xlsx was succesfuly imported\n",
      "SARA Alert_EOD_Masterfile_Smartsheet 2021.xlsx was succesfuly imported\n",
      "SARA Alert_EOD_Masterfile_Smartsheet 2021.xlsx was succesfuly imported\n",
      "SARA Alert_EOD_Masterfile_Smartsheet 2021.xlsx was succesfuly imported\n",
      "SARA Alert_EOD_Masterfile_Smartsheet 2021.xlsx was succesfuly imported\n",
      "SARA Alert_EOD_Masterfile_Smartsheet 2021.xlsx was succesfuly imported\n",
      "SARA Alert_EOD_Masterfile_Smartsheet 20220102.xlsx was succesfuly imported\n",
      "SARA Alert_EOD_Masterfile_Smartsheet 20220110.xlsx was succesfuly imported\n",
      "SARA Alert_EOD_Masterfile_Smartsheet 2021.xlsx was succesfuly imported\n",
      "SARA Alert_EOD_Masterfile_Smartsheet 2021.xlsx was succesfuly imported\n",
      "SARA Alert_EOD_Masterfile_Smartsheet 2021.xlsx was succesfuly imported\n",
      "SARA Alert_EOD_Masterfile_Smartsheet 2021.xlsx was succesfuly imported\n",
      "SARA Alert_EOD_Masterfile_Smartsheet 2021.xlsx was succesfuly imported\n",
      "SARA Alert_EOD_Masterfile_Smartsheet 2021.xlsx was succesfuly imported\n",
      "SARA Alert_EOD_Masterfile_Smartsheet 2021.xlsx was succesfuly imported\n",
      "SARA Alert_EOD_Masterfile_Smartsheet 2021.xlsx was succesfuly imported\n",
      "SARA Alert_EOD_Masterfile_Smartsheet 2021.xlsx was succesfuly imported\n",
      "SARA Alert_EOD_Masterfile_Smartsheet 2021.xlsx was succesfuly imported\n",
      "SARA Alert_EOD_Masterfile_Smartsheet 2021.xlsx was succesfuly imported\n",
      "SARA Alert_EOD_Masterfile_Smartsheet 2021.xlsx was succesfuly imported\n",
      "SARA Alert_EOD_Masterfile_Smartsheet 2021.xlsx was succesfuly imported\n",
      "SARA Alert_EOD_Masterfile_Smartsheet 2021.xlsx was succesfuly imported\n",
      "SARA Alert_EOD_Masterfile_Smartsheet 2021.xlsx was succesfuly imported\n",
      "SARA Alert_EOD_Masterfile_Smartsheet 2021.xlsx was succesfuly imported\n",
      "SARA Alert_EOD_Masterfile_Smartsheet 2021.xlsx was succesfuly imported\n",
      "SARA Alert_EOD_Masterfile_Smartsheet 2021.xlsx was succesfuly imported\n",
      "SARA Alert_EOD_Masterfile_Smartsheet 20211101.xlsx was succesfuly imported\n",
      "SARA Alert_EOD_Masterfile_Smartsheet 20211102.xlsx was succesfuly imported\n",
      "SARA Alert_EOD_Masterfile_Smartsheet 20211107.xlsx was succesfuly imported\n",
      "SARA Alert_EOD_Masterfile_Smartsheet 20211108.xlsx was succesfuly imported\n",
      "SARA Alert_EOD_Masterfile_Smartsheet 20211109.xlsx was succesfuly imported\n",
      "SARA Alert_EOD_Masterfile_Smartsheet 20211110.xlsx was succesfuly imported\n",
      "SARA Alert_EOD_Masterfile_Smartsheet 20211115.xlsx was succesfuly imported\n",
      "SARA Alert_EOD_Masterfile_Smartsheet 20211117.xlsx was succesfuly imported\n",
      "SARA Alert_EOD_Masterfile_Smartsheet 2021.xlsx was succesfuly imported\n",
      "SARA Alert_EOD_Masterfile_Smartsheet 2021.xlsx was succesfuly imported\n",
      "SARA Alert_EOD_Masterfile_Smartsheet 20211120.xlsx was succesfuly imported\n",
      "SARA Alert_EOD_Masterfile_Smartsheet 2021.xlsx was succesfuly imported\n",
      "SARA Alert_EOD_Masterfile_Smartsheet 2021.xlsx was succesfuly imported\n",
      "SARA Alert_EOD_Masterfile_Smartsheet 2021.xlsx was succesfuly imported\n",
      "SARA Alert_EOD_Masterfile_Smartsheet 20211025.xlsx was succesfuly imported\n"
     ]
    }
   ],
   "source": [
    "# loading dataframe for each file in file_match_success dict\n",
    "\n",
    "total_dict = {}\n",
    "completed_dict = {}\n",
    "\n",
    "failed_df_list = []\n",
    "\n",
    "keep_running = True\n",
    "\n",
    "x=0\n",
    "for key, value in file_match_success.items():\n",
    "    x += 1\n",
    "    path_to_xlsx = key + \"/\" +value\n",
    "    #print(path_to_xlsx)\n",
    "    #print(key)\n",
    "    try:\n",
    "        df_total = pd.read_excel((path_to_xlsx), sheet_name = \"TOTAL\", engine=\"openpyxl\")\n",
    "        df_completed = pd.read_excel((path_to_xlsx), sheet_name = \"Completed_LTFU_ReturnedToDOH\", engine=\"openpyxl\")\n",
    "\n",
    "        total_dict[key] = df_total\n",
    "        completed_dict[key] = df_completed\n",
    "\n",
    "        print(f\"{value} was succesfuly imported\")\n",
    "    except: \n",
    "        failed_df_list.append(key)\n",
    "        print(f\"{value} failed to import\")\n",
    "\n",
    "#     if x >= 10:\n",
    "#         break"
   ]
  },
  {
   "cell_type": "code",
   "execution_count": 43,
   "id": "f2bc2a04-d921-4797-9c96-639326e4d7fe",
   "metadata": {},
   "outputs": [
    {
     "data": {
      "text/plain": [
       "['2022-02-09']"
      ]
     },
     "execution_count": 43,
     "metadata": {},
     "output_type": "execute_result"
    }
   ],
   "source": [
    "sorted([i[-10:] for i in failed_df_list])"
   ]
  },
  {
   "cell_type": "code",
   "execution_count": 44,
   "id": "7935e9f7-7abc-463f-b63c-84f2f532b55c",
   "metadata": {},
   "outputs": [
    {
     "name": "stdout",
     "output_type": "stream",
     "text": [
      "C:/SARA_Copy/2022_02_24_recent_files/December 2021/2021-12-15 : (26, 11)\n",
      "C:/SARA_Copy/2022_02_24_recent_files/December 2021/2021-12-16 : (26, 11)\n",
      "C:/SARA_Copy/2022_02_24_recent_files/December 2021/2021-12-17 : (11, 11)\n",
      "C:/SARA_Copy/2022_02_24_recent_files/December 2021/2021-12-18 : (23, 11)\n",
      "C:/SARA_Copy/2022_02_24_recent_files/December 2021/2021-12-19 : (17, 11)\n",
      "C:/SARA_Copy/2022_02_24_recent_files/December 2021/2021-12-20 : (42, 11)\n",
      "C:/SARA_Copy/2022_02_24_recent_files/December 2021/2021-12-21 : (35, 11)\n",
      "C:/SARA_Copy/2022_02_24_recent_files/December 2021/2021-12-22 : (19, 11)\n",
      "C:/SARA_Copy/2022_02_24_recent_files/December 2021/2021-12-23 : (30, 11)\n",
      "C:/SARA_Copy/2022_02_24_recent_files/December 2021/2021-12-24 : (22, 11)\n",
      "C:/SARA_Copy/2022_02_24_recent_files/December 2021/2021-12-25 : (42, 11)\n",
      "C:/SARA_Copy/2022_02_24_recent_files/December 2021/2021-12-26 : (35, 11)\n",
      "C:/SARA_Copy/2022_02_24_recent_files/December 2021/2021-12-27 : (25, 11)\n",
      "C:/SARA_Copy/2022_02_24_recent_files/December 2021/2021-12-28 : (40, 11)\n",
      "C:/SARA_Copy/2022_02_24_recent_files/December 2021/2021-12-29 : (71, 11)\n",
      "C:/SARA_Copy/2022_02_24_recent_files/December 2021/2021-12-30 : (33, 12)\n",
      "C:/SARA_Copy/2022_02_24_recent_files/December 2021/2021-12-31 : (34, 11)\n",
      "C:/SARA_Copy/2022_02_24_recent_files/February 2022/2022-02-01 : (30, 11)\n",
      "C:/SARA_Copy/2022_02_24_recent_files/February 2022/2022-02-02 : (51, 11)\n",
      "C:/SARA_Copy/2022_02_24_recent_files/February 2022/2022-02-03 : (37, 11)\n"
     ]
    }
   ],
   "source": [
    "#Number of Columns is not uniform between files\n",
    "count = 0\n",
    "for key, value in completed_dict.items():\n",
    "    count += 1\n",
    "    print(f\"{key} : {value.shape}\")\n",
    "    \n",
    "    if count >= 20:\n",
    "        break"
   ]
  },
  {
   "cell_type": "code",
   "execution_count": 48,
   "id": "e49a683a-fd95-4f7e-9f2e-cd6890b46d7e",
   "metadata": {},
   "outputs": [
    {
     "name": "stdout",
     "output_type": "stream",
     "text": [
      "C:/SARA_Copy/2022_02_24_recent_files/December 2021/2021-12-15 : (198, 9)\n",
      "C:/SARA_Copy/2022_02_24_recent_files/December 2021/2021-12-16 : (199, 9)\n",
      "C:/SARA_Copy/2022_02_24_recent_files/December 2021/2021-12-17 : (199, 9)\n",
      "C:/SARA_Copy/2022_02_24_recent_files/December 2021/2021-12-18 : (199, 9)\n",
      "C:/SARA_Copy/2022_02_24_recent_files/December 2021/2021-12-19 : (144, 9)\n",
      "C:/SARA_Copy/2022_02_24_recent_files/December 2021/2021-12-20 : (199, 9)\n",
      "C:/SARA_Copy/2022_02_24_recent_files/December 2021/2021-12-21 : (199, 9)\n",
      "C:/SARA_Copy/2022_02_24_recent_files/December 2021/2021-12-22 : (199, 9)\n",
      "C:/SARA_Copy/2022_02_24_recent_files/December 2021/2021-12-23 : (199, 9)\n",
      "C:/SARA_Copy/2022_02_24_recent_files/December 2021/2021-12-24 : (199, 9)\n",
      "C:/SARA_Copy/2022_02_24_recent_files/December 2021/2021-12-25 : (199, 9)\n",
      "C:/SARA_Copy/2022_02_24_recent_files/December 2021/2021-12-26 : (96, 9)\n",
      "C:/SARA_Copy/2022_02_24_recent_files/December 2021/2021-12-27 : (198, 9)\n",
      "C:/SARA_Copy/2022_02_24_recent_files/December 2021/2021-12-28 : (199, 9)\n",
      "C:/SARA_Copy/2022_02_24_recent_files/December 2021/2021-12-29 : (154, 9)\n",
      "C:/SARA_Copy/2022_02_24_recent_files/December 2021/2021-12-30 : (199, 9)\n",
      "C:/SARA_Copy/2022_02_24_recent_files/December 2021/2021-12-31 : (199, 9)\n",
      "C:/SARA_Copy/2022_02_24_recent_files/February 2022/2022-02-01 : (199, 9)\n",
      "C:/SARA_Copy/2022_02_24_recent_files/February 2022/2022-02-02 : (199, 9)\n",
      "C:/SARA_Copy/2022_02_24_recent_files/February 2022/2022-02-03 : (199, 9)\n"
     ]
    }
   ],
   "source": [
    "#Number of Columns is not uniform between files\n",
    "count = 0\n",
    "for key, value in total_dict.items():\n",
    "    count += 1\n",
    "    print(f\"{key} : {value.shape}\")\n",
    "    \n",
    "    if count >= 20:\n",
    "        break\n"
   ]
  },
  {
   "cell_type": "code",
   "execution_count": 49,
   "id": "9b32dcd0-a358-4da4-bd8a-09e935fabbbc",
   "metadata": {},
   "outputs": [
    {
     "name": "stdout",
     "output_type": "stream",
     "text": [
      "['State/Local ID', 'Investigator Assigned', 'Status (See List Options)', 'Category', 'Onset Date', 'County', 'Comments on calls', 'Re-assigned back to DOH?', 'Reason', 'EOD_Date']\n",
      "['State/Local ID', 'Investigator Assigned', 'Status (See List Options)', 'Category', 'Onset Date', 'County', 'Comments on calls', 'Re-assigned back to DOH?', 'Reason', 'EOD_Date']\n",
      "['State/Local ID', 'Investigator Assigned', 'Status (See List Options)', 'Category', 'Onset Date', 'County', 'Comments on calls', 'Re-assigned back to DOH?', 'Reason', 'EOD_Date']\n",
      "['State/Local ID', 'Investigator Assigned', 'Status (See List Options)', 'Category', 'Onset Date', 'County', 'Comments on calls', 'Re-assigned back to DOH?', 'Reason', 'EOD_Date']\n",
      "['State/Local ID', 'Investigator Assigned', 'Status (See List Options)', 'Category', 'Onset Date', 'County', 'Comments on calls', 'Re-assigned back to DOH?', 'Reason', 'EOD_Date']\n",
      "['State/Local ID', 'Investigator Assigned', 'Status (See List Options)', 'Category', 'Onset Date', 'County', 'Comments on calls', 'Re-assigned back to DOH?', 'Reason', 'EOD_Date']\n",
      "['State/Local ID', 'Investigator Assigned', 'Status (See List Options)', 'Category', 'Onset Date', 'County', 'Comments on calls', 'Re-assigned back to DOH?', 'Reason', 'EOD_Date']\n",
      "['State/Local ID', 'Investigator Assigned', 'Status (See List Options)', 'Category', 'Onset Date', 'County', 'Comments on calls', 'Re-assigned back to DOH?', 'Reason', 'EOD_Date']\n",
      "['State/Local ID', 'Investigator Assigned', 'Status (See List Options)', 'Category', 'Onset Date', 'County', 'Comments on calls', 'Re-assigned back to DOH?', 'Reason', 'EOD_Date']\n",
      "['State/Local ID', 'Investigator Assigned', 'Status (See List Options)', 'Category', 'Onset Date', 'County', 'Comments on calls', 'Re-assigned back to DOH?', 'Reason', 'EOD_Date']\n",
      "['State/Local ID', 'Investigator Assigned', 'Status (See List Options)', 'Category', 'Onset Date', 'County', 'Comments on calls', 'Re-assigned back to DOH?', 'Reason', 'EOD_Date']\n",
      "['State/Local ID', 'Investigator Assigned', 'Status (See List Options)', 'Category', 'Onset Date', 'County', 'Comments on calls', 'Re-assigned back to DOH?', 'Reason', 'EOD_Date']\n",
      "['State/Local ID', 'Investigator Assigned', 'Status (See List Options)', 'Category', 'Onset Date', 'County', 'Comments on calls', 'Re-assigned back to DOH?', 'Reason', 'EOD_Date']\n",
      "['State/Local ID', 'Investigator Assigned', 'Status (See List Options)', 'Category', 'Onset Date', 'County', 'Comments on calls', 'Re-assigned back to DOH?', 'Reason', 'EOD_Date']\n",
      "['State/Local ID', 'Investigator Assigned', 'Status (See List Options)', 'Category', 'Onset Date', 'County', 'Comments on calls', 'Re-assigned back to DOH?', 'Reason', 'EOD_Date']\n",
      "['State/Local ID', 'Investigator Assigned', 'Status (See List Options)', 'Category', 'Onset Date', 'County', 'Comments on calls', 'Re-assigned back to DOH?', 'Reason', 'EOD_Date']\n",
      "['State/Local ID', 'Investigator Assigned', 'Status (See List Options)', 'Category', 'Onset Date', 'County', 'Comments on calls', 'Re-assigned back to DOH?', 'Reason', 'EOD_Date']\n",
      "['State/Local ID', 'Investigator Assigned', 'Status (See List Options)', 'Category', 'Onset Date', 'County', 'Comments on calls', 'Re-assigned back to DOH?', 'Reason', 'EOD_Date']\n",
      "['State/Local ID', 'Investigator Assigned', 'Status (See List Options)', 'Category', 'Onset Date', 'County', 'Comments on calls', 'Re-assigned back to DOH?', 'Reason', 'EOD_Date']\n",
      "['State/Local ID', 'Investigator Assigned', 'Status (See List Options)', 'Category', 'Onset Date', 'County', 'Comments on calls', 'Re-assigned back to DOH?', 'Reason', 'EOD_Date']\n",
      "['State/Local ID', 'Investigator Assigned', 'Status (See List Options)', 'Category', 'Onset Date', 'County', 'Comments on calls', 'Re-assigned back to DOH?', 'Reason', 'EOD_Date']\n",
      "['State/Local ID', 'Investigator Assigned', 'Status (See List Options)', 'Category', 'Onset Date', 'County', 'Comments on calls', 'Re-assigned back to DOH?', 'Reason', 'EOD_Date']\n",
      "['State/Local ID', 'Investigator Assigned', 'Status (See List Options)', 'Category', 'Onset Date', 'County', 'Comments on calls', 'Re-assigned back to DOH?', 'Reason', 'EOD_Date']\n",
      "['State/Local ID', 'Investigator Assigned', 'Status (See List Options)', 'Category', 'Onset Date', 'County', 'Comments on calls', 'Re-assigned back to DOH?', 'Reason', 'EOD_Date']\n",
      "['State/Local ID', 'Investigator Assigned', 'Status (See List Options)', 'Category', 'Onset Date', 'County', 'Comments on calls', 'Re-assigned back to DOH?', 'Reason', 'EOD_Date']\n",
      "['State/Local ID', 'Investigator Assigned', 'Status (See List Options)', 'Category', 'Onset Date', 'County', 'Comments on calls', 'Re-assigned back to DOH?', 'Reason', 'EOD_Date']\n",
      "['State/Local ID', 'Investigator Assigned', 'Status (See List Options)', 'Category', 'Onset Date', 'County', 'Comments on calls', 'Re-assigned back to DOH?', 'Reason', 'EOD_Date']\n",
      "['State/Local ID', 'Investigator Assigned', 'Status (See List Options)', 'Category', 'Onset Date', 'County', 'Comments on calls', 'Re-assigned back to DOH?', 'Reason', 'EOD_Date']\n",
      "['State/Local ID', 'Investigator Assigned', 'Status (See List Options)', 'Category', 'Onset Date', 'County', 'Comments on calls', 'Re-assigned back to DOH?', 'Reason', 'EOD_Date']\n",
      "['State/Local ID', 'Investigator Assigned', 'Status (See List Options)', 'Category', 'Onset Date', 'County', 'Comments on calls', 'Re-assigned back to DOH?', 'Reason', 'EOD_Date']\n",
      "['State/Local ID', 'Investigator Assigned', 'Status (See List Options)', 'Category', 'Onset Date', 'County', 'Comments on calls', 'Re-assigned back to DOH?', 'Reason', 'EOD_Date']\n",
      "['State/Local ID', 'Investigator Assigned', 'Status (See List Options)', 'Category', 'Onset Date', 'County', 'Comments on calls', 'Re-assigned back to DOH?', 'Reason', 'EOD_Date']\n",
      "['State/Local ID', 'Investigator Assigned', 'Status (See List Options)', 'Category', 'Onset Date', 'County', 'Comments on calls', 'Re-assigned back to DOH?', 'Reason', 'EOD_Date']\n",
      "['State/Local ID', 'Investigator Assigned', 'Status (See List Options)', 'Category', 'Onset Date', 'County', 'Comments on calls', 'Re-assigned back to DOH?', 'Reason', 'EOD_Date']\n",
      "['State/Local ID', 'Investigator Assigned', 'Status (See List Options)', 'Category', 'Onset Date', 'County', 'Comments on calls', 'Re-assigned back to DOH?', 'Reason', 'EOD_Date']\n",
      "['State/Local ID', 'Investigator Assigned', 'Status (See List Options)', 'Category', 'Onset Date', 'County', 'Comments on calls', 'Re-assigned back to DOH?', 'Reason', 'EOD_Date']\n",
      "['State/Local ID', 'Investigator Assigned', 'Status (See List Options)', 'Category', 'Onset Date', 'County', 'Comments on calls', 'Re-assigned back to DOH?', 'Reason', 'EOD_Date']\n",
      "['State/Local ID', 'Investigator Assigned', 'Status (See List Options)', 'Category', 'Onset Date', 'County', 'Comments on calls', 'Re-assigned back to DOH?', 'Reason', 'EOD_Date']\n",
      "['State/Local ID', 'Investigator Assigned', 'Status (See List Options)', 'Category', 'Onset Date', 'County', 'Comments on calls', 'Re-assigned back to DOH?', 'Reason', 'EOD_Date']\n",
      "['State/Local ID', 'Investigator Assigned', 'Status (See List Options)', 'Category', 'Onset Date', 'County', 'Comments on calls', 'Re-assigned back to DOH?', 'Reason', 'EOD_Date']\n",
      "['State/Local ID', 'Investigator Assigned', 'Status (See List Options)', 'Category', 'Onset Date', 'County', 'Comments on calls', 'Re-assigned back to DOH?', 'Reason', 'EOD_Date']\n",
      "['State/Local ID', 'Investigator Assigned', 'Status (See List Options)', 'Category', 'Onset Date', 'County', 'Comments on calls', 'Re-assigned back to DOH?', 'Reason', 'EOD_Date']\n",
      "['State/Local ID', 'Investigator Assigned', 'Status (See List Options)', 'Category', 'Onset Date', 'County', 'Comments on calls', 'Re-assigned back to DOH?', 'Reason', 'EOD_Date']\n",
      "['State/Local ID', 'Investigator Assigned', 'Status (See List Options)', 'Category', 'Onset Date', 'County', 'Comments on calls', 'Re-assigned back to DOH?', 'Reason', 'EOD_Date']\n",
      "['State/Local ID', 'Investigator Assigned', 'Status (See List Options)', 'Category', 'Onset Date', 'County', 'Comments on calls', 'Re-assigned back to DOH?', 'Reason', 'EOD_Date']\n",
      "['State/Local ID', 'Investigator Assigned', 'Status (See List Options)', 'Category', 'Onset Date', 'County', 'Comments on calls', 'Re-assigned back to DOH?', 'Reason', 'EOD_Date']\n",
      "['State/Local ID', 'Investigator Assigned', 'Status (See List Options)', 'Category', 'Onset Date', 'County', 'Comments on calls', 'Re-assigned back to DOH?', 'Reason', 'EOD_Date']\n",
      "['State/Local ID', 'Investigator Assigned', 'Status (See List Options)', 'Category', 'Onset Date', 'County', 'Comments on calls', 'Re-assigned back to DOH?', 'Reason', 'EOD_Date']\n",
      "['State/Local ID', 'Investigator Assigned', 'Status (See List Options)', 'Category', 'Onset Date', 'County', 'Comments on calls', 'Re-assigned back to DOH?', 'Reason', 'EOD_Date']\n",
      "['State/Local ID', 'Investigator Assigned', 'Status (See List Options)', 'Category', 'Onset Date', 'County', 'Comments on calls', 'Re-assigned back to DOH?', 'Reason', 'EOD_Date']\n",
      "['State/Local ID', 'Investigator Assigned', 'Status (See List Options)', 'Category', 'Onset Date', 'County', 'Comments on calls', 'Re-assigned back to DOH?', 'Reason', 'EOD_Date']\n",
      "['State/Local ID', 'Investigator Assigned', 'Status (See List Options)', 'Category', 'Onset Date', 'County', 'Comments on calls', 'Re-assigned back to DOH?', 'Reason', 'EOD_Date']\n",
      "['State/Local ID', 'Investigator Assigned', 'Status (See List Options)', 'Category', 'Onset Date', 'County', 'Comments on calls', 'Re-assigned back to DOH?', 'Reason', 'EOD_Date']\n",
      "['State/Local ID', 'Investigator Assigned', 'Status (See List Options)', 'Category', 'Onset Date', 'County', 'Comments on calls', 'Re-assigned back to DOH?', 'Reason', 'EOD_Date']\n",
      "['State/Local ID', 'Investigator Assigned', 'Status (See List Options)', 'Category', 'Onset Date', 'County', 'Comments on calls', 'Re-assigned back to DOH?', 'Reason', 'EOD_Date']\n",
      "['State/Local ID', 'Investigator Assigned', 'Status (See List Options)', 'Category', 'Onset Date', 'County', 'Comments on calls', 'Re-assigned back to DOH?', 'Reason', 'EOD_Date']\n",
      "['State/Local ID', 'Investigator Assigned', 'Status (See List Options)', 'Category', 'Onset Date', 'County', 'Comments on calls', 'Re-assigned back to DOH?', 'Reason', 'EOD_Date']\n",
      "['State/Local ID', 'Investigator Assigned', 'Status (See List Options)', 'Category', 'Onset Date', 'County', 'Comments on calls', 'Re-assigned back to DOH?', 'Reason', 'EOD_Date']\n",
      "['State/Local ID', 'Investigator Assigned', 'Status (See List Options)', 'Category', 'Onset Date', 'County', 'Comments on calls', 'Re-assigned back to DOH?', 'Reason', 'EOD_Date']\n",
      "['State/Local ID', 'Investigator Assigned', 'Status (See List Options)', 'Category', 'Onset Date', 'County', 'Comments on calls', 'Re-assigned back to DOH?', 'Reason', 'EOD_Date']\n",
      "['State/Local ID', 'Investigator Assigned', 'Status (See List Options)', 'Category', 'Onset Date', 'County', 'Comments on calls', 'Re-assigned back to DOH?', 'Reason', 'EOD_Date']\n",
      "['State/Local ID', 'Investigator Assigned', 'Status (See List Options)', 'Category', 'Onset Date', 'County', 'Comments on calls', 'Re-assigned back to DOH?', 'Reason', 'EOD_Date']\n",
      "['State/Local ID', 'Investigator Assigned', 'Status (See List Options)', 'Category', 'Onset Date', 'County', 'Comments on calls', 'Re-assigned back to DOH?', 'Reason', 'EOD_Date']\n",
      "['State/Local ID', 'Investigator Assigned', 'Status (See List Options)', 'Category', 'Onset Date', 'County', 'Comments on calls', 'Re-assigned back to DOH?', 'Reason', 'EOD_Date']\n",
      "['State/Local ID', 'Investigator Assigned', 'Status (See List Options)', 'Category', 'Onset Date', 'County', 'Comments on calls', 'Re-assigned back to DOH?', 'Reason', 'EOD_Date']\n",
      "['State/Local ID', 'Investigator Assigned', 'Status (See List Options)', 'Category', 'Onset Date', 'County', 'Comments on calls', 'Re-assigned back to DOH?', 'Reason', 'EOD_Date']\n",
      "['State/Local ID', 'Investigator Assigned', 'Status (See List Options)', 'Category', 'Onset Date', 'County', 'Comments on calls', 'Re-assigned back to DOH?', 'Reason', 'EOD_Date']\n",
      "['State/Local ID', 'Investigator Assigned', 'Status (See List Options)', 'Category', 'Onset Date', 'County', 'Comments on calls', 'Re-assigned back to DOH?', 'Reason', 'EOD_Date']\n",
      "['State/Local ID', 'Investigator Assigned', 'Status (See List Options)', 'Category', 'Onset Date', 'County', 'Comments on calls', 'Re-assigned back to DOH?', 'Reason', 'EOD_Date']\n",
      "['State/Local ID', 'Investigator Assigned', 'Status (See List Options)', 'Category', 'Onset Date', 'County', 'Comments on calls', 'Re-assigned back to DOH?', 'Reason', 'EOD_Date']\n",
      "['State/Local ID', 'Investigator Assigned', 'Status (See List Options)', 'Category', 'Onset Date', 'County', 'Comments on calls', 'Re-assigned back to DOH?', 'Reason', 'EOD_Date']\n",
      "['State/Local ID', 'Investigator Assigned', 'Status (See List Options)', 'Category', 'Onset Date', 'County', 'Comments on calls', 'Re-assigned back to DOH?', 'Reason', 'EOD_Date']\n",
      "['State/Local ID', 'Investigator Assigned', 'Status (See List Options)', 'Category', 'Onset Date', 'County', 'Comments on calls', 'Re-assigned back to DOH?', 'Reason', 'EOD_Date']\n",
      "['State/Local ID', 'Investigator Assigned', 'Status (See List Options)', 'Category', 'Onset Date', 'County', 'Comments on calls', 'Re-assigned back to DOH?', 'Reason', 'EOD_Date']\n"
     ]
    }
   ],
   "source": [
    "#make uniform cutoff of 9 columns per dataframe\n",
    "\n",
    "completed_clean_dict = {}\n",
    "\n",
    "for key, value in completed_dict.items():\n",
    "    count += 1\n",
    "    \n",
    "    df = value.iloc[:, 0:9].copy() #taking first 9 columns only\n",
    "    \n",
    "    #changing \"symptom onset\" to \"Onset Date\" if columns exists\n",
    "    if 'Symptom Onset' in list(df.columns):\n",
    "        df.rename(columns = {'Symptom Onset':\"Onset Date\"}, inplace = True)\n",
    "    \n",
    "    #Adding County column in position 5 if it doesnt exist\n",
    "    if \"County\" not in list(df.columns):\n",
    "        df.insert(loc = 5, column = \"County\", value = None)\n",
    "        \n",
    "    #Adding \"Reason\" column if it does not exist\n",
    "    if \"Reason\" not in list(df.columns):\n",
    "        df.insert(loc = 8, column = \"Reason\", value = None)\n",
    "    \n",
    "    #removing extra unnamed columns (for the df that had missing columns)\n",
    "    df = df.iloc[:,0:9]\n",
    "    \n",
    "    #adding column for EOD value\n",
    "    df[\"EOD_Date\"] = key[-10:]\n",
    "    \n",
    "    \n",
    "    completed_clean_dict[key] = df \n",
    "    \n",
    "    print([i for i in df.columns])"
   ]
  },
  {
   "cell_type": "code",
   "execution_count": 51,
   "id": "f69edd17-3afa-445c-a758-7a003a087c09",
   "metadata": {},
   "outputs": [],
   "source": [
    "df_complete_clean = pd.concat(completed_clean_dict, ignore_index=True)"
   ]
  },
  {
   "cell_type": "code",
   "execution_count": 53,
   "id": "a69592dd-cdc8-405c-bb92-f289e2d68cee",
   "metadata": {},
   "outputs": [],
   "source": [
    "df_complete_clean.to_csv(\"2022_02_25_Completed_EOD_merged.csv\", index=False)"
   ]
  },
  {
   "cell_type": "markdown",
   "id": "4efce7ef-369b-4bf1-8b8e-68bae5a62944",
   "metadata": {},
   "source": [
    "## Clean and merge Total dataframes\n"
   ]
  },
  {
   "cell_type": "code",
   "execution_count": 58,
   "id": "86ea0629-a3f5-4240-9418-82ef628c9da1",
   "metadata": {},
   "outputs": [],
   "source": [
    "df_historic = pd.read_csv(\"Completed_EOD_merged.csv\")"
   ]
  },
  {
   "cell_type": "code",
   "execution_count": 59,
   "id": "0c96086c-c3e1-4841-8d35-024ae5cecddd",
   "metadata": {},
   "outputs": [
    {
     "data": {
      "text/plain": [
       "(2046, 10)"
      ]
     },
     "execution_count": 59,
     "metadata": {},
     "output_type": "execute_result"
    }
   ],
   "source": [
    "df_complete_clean.shape"
   ]
  },
  {
   "cell_type": "code",
   "execution_count": 60,
   "id": "67ccd3cc-6d60-42d2-8d38-f1b71ed6dfa5",
   "metadata": {},
   "outputs": [
    {
     "data": {
      "text/plain": [
       "(9799, 10)"
      ]
     },
     "execution_count": 60,
     "metadata": {},
     "output_type": "execute_result"
    }
   ],
   "source": [
    "df_historic.shape"
   ]
  },
  {
   "cell_type": "code",
   "execution_count": 64,
   "id": "9ae83f22-28f5-4790-9277-208246889ead",
   "metadata": {},
   "outputs": [
    {
     "data": {
      "text/plain": [
       "array([ True,  True,  True,  True,  True,  True,  True,  True,  True,\n",
       "        True])"
      ]
     },
     "execution_count": 64,
     "metadata": {},
     "output_type": "execute_result"
    }
   ],
   "source": [
    "df_complete_clean.columns == df_historic.columns"
   ]
  },
  {
   "cell_type": "code",
   "execution_count": 67,
   "id": "27007cf8-16b3-427f-890a-1081aa7a8774",
   "metadata": {},
   "outputs": [],
   "source": [
    "new = pd.concat([df_complete_clean, df_historic])"
   ]
  },
  {
   "cell_type": "code",
   "execution_count": 68,
   "id": "69cba85e-bce9-4c5b-8bc6-ed9dbb609a53",
   "metadata": {},
   "outputs": [
    {
     "data": {
      "text/plain": [
       "(11845, 10)"
      ]
     },
     "execution_count": 68,
     "metadata": {},
     "output_type": "execute_result"
    }
   ],
   "source": [
    "new.shape"
   ]
  },
  {
   "cell_type": "code",
   "execution_count": 69,
   "id": "4892ca05-1e5b-4d6b-8a6c-dee35dc6963f",
   "metadata": {},
   "outputs": [],
   "source": [
    "new = new.drop_duplicates()"
   ]
  },
  {
   "cell_type": "code",
   "execution_count": 70,
   "id": "4438aa82-3046-496e-9477-47a0cf806711",
   "metadata": {},
   "outputs": [
    {
     "data": {
      "text/plain": [
       "(11829, 10)"
      ]
     },
     "execution_count": 70,
     "metadata": {},
     "output_type": "execute_result"
    }
   ],
   "source": [
    "new.shape"
   ]
  },
  {
   "cell_type": "code",
   "execution_count": 72,
   "id": "00d0a8a2-0f33-4bcf-ab70-39d908adfdc0",
   "metadata": {},
   "outputs": [],
   "source": [
    "new.to_csv(\"2022_02_25_Completed_EOD_merged.csv\", index=False)"
   ]
  },
  {
   "cell_type": "code",
   "execution_count": null,
   "id": "c214fca6-9ec9-4e87-b950-17618cda5e6b",
   "metadata": {},
   "outputs": [],
   "source": []
  }
 ],
 "metadata": {
  "kernelspec": {
   "display_name": "Python [conda env:transform21] *",
   "language": "python",
   "name": "conda-env-transform21-py"
  },
  "language_info": {
   "codemirror_mode": {
    "name": "ipython",
    "version": 3
   },
   "file_extension": ".py",
   "mimetype": "text/x-python",
   "name": "python",
   "nbconvert_exporter": "python",
   "pygments_lexer": "ipython3",
   "version": "3.8.10"
  }
 },
 "nbformat": 4,
 "nbformat_minor": 5
}
