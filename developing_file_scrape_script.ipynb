{
 "cells": [
  {
   "cell_type": "code",
   "execution_count": 2,
   "id": "022e47dc-2d81-4d11-bdc6-0bd654273892",
   "metadata": {},
   "outputs": [],
   "source": [
    "import pandas as pd\n",
    "import os, re\n",
    "from time import sleep"
   ]
  },
  {
   "cell_type": "markdown",
   "id": "af2c4544-e89a-4bfe-99a2-f5af8f2d6ba0",
   "metadata": {},
   "source": [
    "# Attempt to scrape from y drive"
   ]
  },
  {
   "cell_type": "code",
   "execution_count": null,
   "id": "5865904b-93c1-475c-b30c-faa0da72a233",
   "metadata": {},
   "outputs": [],
   "source": [
    "dir_list = [\n",
    "            'April 2021',\n",
    "            'August 2021',\n",
    "             'February 2021',\n",
    "            'January 2021',\n",
    "            'July 2021',\n",
    "            'June 2021',\n",
    "            'March 2021',\n",
    "            'May 2021',\n",
    "            'September 2021']\n",
    "\n",
    "general_path = \"Y:/Confidential/DCHS/CDE/01_Linelists_Cross Coverage/Novel CoV/SARA/SARA Investigator Assignments/Assignments/\"\n",
    "\n",
    "total_dict = {}\n",
    "completed_dict = {}\n",
    "\n",
    "for dir_name in dir_list:\n",
    "    dir_path = general_path + dir_name\n",
    "    subdirs = next(os.walk(dir_path))[1] #create a list of subdirs\n",
    "    \n",
    "    for subdir_name in subdirs: #iterate over the names of subdirectories\n",
    "        subdir_path = dir_path +\"/\" + subdir_name\n",
    "        \n",
    "        for file in os.listdir(subdir_path): #iterate over files in subdir, look for name match\n",
    "            if re.search(r'EOD.*xlsx$', file): #must contain \"EOD\", must end with \"xlsx\"\n",
    "                \n",
    "                df_total = pd.read_excel((subdir_path+\"/\"+file), sheet_name = \"TOTAL\")\n",
    "                df_completed = pd.read_excel((subdir_path+\"/\"+file), sheet_name = \"Completed_LTFU_ReturnedToDOH\")\n",
    "                \n",
    "                total_dict[subdir_name] = df_total\n",
    "                completed_dict[subdir_name] = df_completed\n",
    "                \n",
    "                print(file)\n",
    "                print(subdir_path) "
   ]
  },
  {
   "cell_type": "markdown",
   "id": "93245a2d-2c7c-40c8-857e-1f3f05078756",
   "metadata": {},
   "source": [
    "# Save copy localy and scrap files\n",
    "\n",
    "#### Conclusion:\n",
    "Many files are password protected\n",
    "\n",
    "Many files dont have a \"TOTAL\" sheet name\n",
    "\n",
    "Many files dont have a \"Completed_LTFU_ReturnedToDOH\" sheet name\n"
   ]
  },
  {
   "cell_type": "code",
   "execution_count": 19,
   "id": "3c488969-3c2c-444b-af86-06e4b262078c",
   "metadata": {},
   "outputs": [
    {
     "name": "stdout",
     "output_type": "stream",
     "text": [
      "SARA Alert_EOD_Masterfile_Smartsheet 20210821.xlsx\n",
      "C:/SARA_Copy/August 2021/2021-08-22\n",
      "SARA Alert_EOD_Masterfile_Smartsheet 2021.xlsx\n",
      "C:/SARA_Copy/August 2021/2021-08-23\n",
      "SARA Alert_EOD_Masterfile_Smartsheet 20210824.xlsx\n",
      "C:/SARA_Copy/August 2021/2021-08-24\n",
      "SARA Alert_EOD_Masterfile_Smartsheet 2021.xlsx\n",
      "C:/SARA_Copy/August 2021/2021-08-25\n",
      "SARA Alert_EOD_Masterfile_Smartsheet 20210826.xlsx\n",
      "C:/SARA_Copy/August 2021/2021-08-26\n",
      "SARA Alert_EOD_Masterfile_Smartsheet 20210827.xlsx\n",
      "C:/SARA_Copy/August 2021/2021-08-27\n",
      "SARA Alert_EOD_Masterfile_Smartsheet 20210827.xlsx\n",
      "C:/SARA_Copy/August 2021/2021-08-28\n",
      "SARA Alert_EOD_Masterfile_Smartsheet 20210829.xlsx\n",
      "C:/SARA_Copy/August 2021/2021-08-29\n",
      "SARA Alert_EOD_Masterfile_Smartsheet 20210830.xlsx\n",
      "C:/SARA_Copy/August 2021/2021-08-30\n",
      "SARA Alert_EOD_Masterfile_Smartsheet 2021.xlsx\n",
      "C:/SARA_Copy/August 2021/2021-08-31\n"
     ]
    }
   ],
   "source": [
    "dir_list = [\n",
    "            'April 2021',\n",
    "            'August 2021',\n",
    "             'February 2021',\n",
    "            'January 2021',\n",
    "            'July 2021',\n",
    "            'June 2021',\n",
    "            'March 2021',\n",
    "            'May 2021',\n",
    "            'September 2021']\n",
    "\n",
    "general_path = \"C:/SARA_Copy/\"\n",
    "\n",
    "total_dict = {}\n",
    "completed_dict = {}\n",
    "\n",
    "for dir_name in dir_list[1:2]:\n",
    "    dir_path = general_path + dir_name\n",
    "    subdirs = next(os.walk(dir_path))[1] #create a list of subdirs\n",
    "    \n",
    "    for subdir_name in subdirs[21:]: #iterate over the names of subdirectories\n",
    "        subdir_path = dir_path +\"/\" + subdir_name\n",
    "        \n",
    "        for file in os.listdir(subdir_path): #iterate over files in subdir, look for name match\n",
    "            if re.search(r'SARA.*EOD.*[0-9].xlsx$', file): #must contain \"EOD\", must end with \"xlsx\"\n",
    "                print(file)\n",
    "                print(subdir_path) \n",
    "                \n",
    "                #df_total = pd.read_excel((subdir_path+\"/\"+file), sheet_name = \"TOTAL\", engine=\"openpyxl\")\n",
    "                df_completed = pd.read_excel((subdir_path+\"/\"+file), sheet_name = \"Completed_LTFU_ReturnedToDOH\", engine=\"openpyxl\")\n",
    "                \n",
    "                #total_dict[subdir_name] = df_total\n",
    "                completed_dict[subdir_name] = df_completed\n",
    "                sleep(0.5)\n"
   ]
  }
 ],
 "metadata": {
  "kernelspec": {
   "display_name": "Python [conda env:transform21] *",
   "language": "python",
   "name": "conda-env-transform21-py"
  },
  "language_info": {
   "codemirror_mode": {
    "name": "ipython",
    "version": 3
   },
   "file_extension": ".py",
   "mimetype": "text/x-python",
   "name": "python",
   "nbconvert_exporter": "python",
   "pygments_lexer": "ipython3",
   "version": "3.8.10"
  }
 },
 "nbformat": 4,
 "nbformat_minor": 5
}
